{
  "nbformat": 4,
  "nbformat_minor": 0,
  "metadata": {
    "colab": {
      "provenance": []
    },
    "kernelspec": {
      "name": "python3",
      "display_name": "Python 3"
    },
    "language_info": {
      "name": "python"
    }
  },
  "cells": [
    {
      "cell_type": "code",
      "source": [
        "import cv2\n",
        "import matplotlib.pyplot as plt"
      ],
      "metadata": {
        "id": "zcyNz7oAK7LY"
      },
      "execution_count": null,
      "outputs": []
    },
    {
      "cell_type": "code",
      "source": [
        "from google.colab import drive\n",
        "drive.flush_and_unmount()"
      ],
      "metadata": {
        "id": "Up-Ktt6nUcAh"
      },
      "execution_count": null,
      "outputs": []
    },
    {
      "cell_type": "code",
      "source": [
        "from keras.preprocessing.image import ImageDataGenerator"
      ],
      "metadata": {
        "id": "gKGShwBWMku2"
      },
      "execution_count": null,
      "outputs": []
    },
    {
      "cell_type": "code",
      "source": [
        "# Defining pre-processing transformations on raw images of training data\n",
        "# These hyper parameters helps to generate slightly twisted versions\n",
        "# of the original image, which leads to a better model, since it learns\n",
        "# on the good and bad mix of images\n",
        "\n",
        "train_datagen = ImageDataGenerator(\n",
        "        shear_range=0.1,\n",
        "        zoom_range=0.1,\n",
        "        horizontal_flip=True)"
      ],
      "metadata": {
        "id": "r89d8FwbMmN1"
      },
      "execution_count": null,
      "outputs": []
    },
    {
      "cell_type": "code",
      "source": [
        "#we wont apply any pre processimg on the raw images of the test dataset\n",
        "\n",
        "test_datagen = ImageDataGenerator()"
      ],
      "metadata": {
        "id": "qOoubXN1MntP"
      },
      "execution_count": null,
      "outputs": []
    },
    {
      "cell_type": "code",
      "source": [
        "trainingImagePath = '/content/test/face/Face Images/Final Training Images'\n",
        "testImagePath = '/content/test/face/Face Images/Final Testing Images'"
      ],
      "metadata": {
        "id": "_FfJUmFhTqPD"
      },
      "execution_count": null,
      "outputs": []
    },
    {
      "cell_type": "code",
      "source": [
        "# Generating the Training Data\n",
        "training_set = train_datagen.flow_from_directory(\n",
        "        trainingImagePath,\n",
        "        target_size=(64, 64),\n",
        "        batch_size=32,\n",
        "        class_mode='categorical')"
      ],
      "metadata": {
        "colab": {
          "base_uri": "https://localhost:8080/"
        },
        "id": "9bl6w1QqMo2d",
        "outputId": "c540a644-2d0a-482f-cbce-302f23f1e012"
      },
      "execution_count": null,
      "outputs": [
        {
          "output_type": "stream",
          "name": "stdout",
          "text": [
            "Found 256 images belonging to 17 classes.\n"
          ]
        }
      ]
    },
    {
      "cell_type": "code",
      "source": [
        "\n",
        "# Generating the Testing Data\n",
        "test_set = test_datagen.flow_from_directory(\n",
        "        testImagePath,\n",
        "        target_size=(64, 64),\n",
        "        batch_size=32,\n",
        "        class_mode='categorical')"
      ],
      "metadata": {
        "colab": {
          "base_uri": "https://localhost:8080/"
        },
        "id": "M9bbbXrFMqdg",
        "outputId": "da1e335d-4d87-4c39-dd73-37f0cb7e50f0"
      },
      "execution_count": null,
      "outputs": [
        {
          "output_type": "stream",
          "name": "stdout",
          "text": [
            "Found 66 images belonging to 17 classes.\n"
          ]
        }
      ]
    },
    {
      "cell_type": "code",
      "source": [
        "# Printing class labels for each face\n",
        "test_set.class_indices"
      ],
      "metadata": {
        "colab": {
          "base_uri": "https://localhost:8080/"
        },
        "id": "Y7_V_53gMslt",
        "outputId": "a4c2a17b-8725-46fa-894a-ef5a078579f0"
      },
      "execution_count": null,
      "outputs": [
        {
          "output_type": "execute_result",
          "data": {
            "text/plain": [
              "{'face1': 0,\n",
              " 'face10': 1,\n",
              " 'face11': 2,\n",
              " 'face12': 3,\n",
              " 'face13': 4,\n",
              " 'face14': 5,\n",
              " 'face15': 6,\n",
              " 'face16': 7,\n",
              " 'face17': 8,\n",
              " 'face2': 9,\n",
              " 'face3': 10,\n",
              " 'face4': 11,\n",
              " 'face5': 12,\n",
              " 'face6': 13,\n",
              " 'face7': 14,\n",
              " 'face8': 15,\n",
              " 'face9': 16}"
            ]
          },
          "metadata": {},
          "execution_count": 24
        }
      ]
    },
    {
      "cell_type": "code",
      "source": [
        "# class_indices have the numeric tag for each face\n",
        "TrainClasses=training_set.class_indices\n",
        "\n",
        "# Storing the face and the numeric tag for future reference\n",
        "ResultMap={}\n",
        "for faceValue,faceName in zip(TrainClasses.values(),TrainClasses.keys()):\n",
        "    ResultMap[faceValue]=faceName\n",
        "\n",
        "# Saving the face map for future reference\n",
        "import pickle\n",
        "with open(\"ResultsMap.pkl\", 'wb') as fileWriteStream:\n",
        "    pickle.dump(ResultMap, fileWriteStream)\n",
        "\n",
        "# The model will give answer as a numeric tag\n",
        "# This mapping will help to get the corresponding face name for it\n",
        "print(\"Mapping of Face and its ID\",ResultMap)\n",
        "\n",
        "# The number of neurons for the output layer is equal to the number of faces\n",
        "OutputNeurons=len(ResultMap)\n",
        "print('\\n The Number of output neurons: ', OutputNeurons)"
      ],
      "metadata": {
        "colab": {
          "base_uri": "https://localhost:8080/"
        },
        "id": "XxiUm2dGMuz0",
        "outputId": "7dfb5749-202f-45c2-9f80-354fc6582762"
      },
      "execution_count": null,
      "outputs": [
        {
          "output_type": "stream",
          "name": "stdout",
          "text": [
            "Mapping of Face and its ID {0: 'face1', 1: 'face10', 2: 'face11', 3: 'face12', 4: 'face13', 5: 'face14', 6: 'face15', 7: 'face16', 8: 'face17', 9: 'face2', 10: 'face3', 11: 'face4', 12: 'face5', 13: 'face6', 14: 'face7', 15: 'face8', 16: 'face9'}\n",
            "\n",
            " The Number of output neurons:  17\n"
          ]
        }
      ]
    },
    {
      "cell_type": "code",
      "source": [
        "# so in our CNN model we would have:\n",
        "#2 hideen convolutional layers\n",
        "#2 hidden pooling layers\n",
        "#16 neurons in the output layer since we have 17 classes\n",
        "# and 1 flattening layer"
      ],
      "metadata": {
        "id": "Sg-CBOa_MxJF"
      },
      "execution_count": null,
      "outputs": []
    },
    {
      "cell_type": "code",
      "source": [
        "from keras.models import Sequential\n",
        "from keras.layers import Convolution2D\n",
        "from keras.layers import MaxPool2D\n",
        "from keras.layers import Flatten\n",
        "from keras.layers import Dense"
      ],
      "metadata": {
        "id": "Tm2ZAM33MyId"
      },
      "execution_count": null,
      "outputs": []
    },
    {
      "cell_type": "code",
      "source": [
        "'''Initializing the Convolutional Neural Network'''\n",
        "classifier= Sequential()\n",
        "\n",
        "''' STEP--1 Convolution\n",
        "# Adding the first layer of CNN\n",
        "# we are using the format (64,64,3) because we are using TensorFlow backend\n",
        "# It means 3 matrix of size (64X64) pixels representing Red, Green and Blue components of pixels\n",
        "'''\n",
        "classifier.add(Convolution2D(32, kernel_size=(5, 5), strides=(1, 1), input_shape=(64,64,3), activation='relu'))\n",
        "\n",
        "'''STEP--2 MAX Pooling'''\n",
        "classifier.add(MaxPool2D(pool_size=(2,2)))\n",
        "\n",
        "''' ADDITIONAL LAYER of CONVOLUTION for better accuracy'''\n",
        "classifier.add(Convolution2D(64, kernel_size=(5, 5), strides=(1, 1), activation='relu'))\n",
        "\n",
        "classifier.add(MaxPool2D(pool_size=(2,2)))\n",
        "\n",
        "''' STEP--3 FLattening'''\n",
        "classifier.add(Flatten())\n",
        "\n",
        "'''STEP--4 Fully Connected Neural Network'''\n",
        "classifier.add(Dense(64, activation='relu'))\n",
        "\n",
        "classifier.add(Dense(OutputNeurons, activation='softmax'))\n",
        "\n",
        "'''Compiling the CNN'''\n",
        "#classifier.compile(loss='binary_crossentropy', optimizer='adam', metrics=['accuracy'])\n",
        "classifier.compile(loss='categorical_crossentropy', optimizer = 'adam', metrics=[\"accuracy\"])\n",
        "\n",
        "\n",
        "\n",
        "# Starting the model training\n",
        "classifier.fit(\n",
        "    training_set,\n",
        "    steps_per_epoch=8,         #number of steps per epoch = (Total number of training samples / Batch size), here i have 244 training images and the batch size is 32, therefore the steps_per_epochs comes out to be 7.6 = 8\n",
        "    epochs=15,\n",
        "    validation_data=test_set,\n",
        "    validation_steps=10\n",
        ")"
      ],
      "metadata": {
        "colab": {
          "base_uri": "https://localhost:8080/"
        },
        "id": "pxEe-luPM09U",
        "outputId": "cb968a66-6d31-43c1-afa8-019980ab4c9c"
      },
      "execution_count": null,
      "outputs": [
        {
          "output_type": "stream",
          "name": "stdout",
          "text": [
            "Epoch 1/15\n",
            "8/8 [==============================] - ETA: 0s - loss: 63.5780 - accuracy: 0.0586"
          ]
        },
        {
          "output_type": "stream",
          "name": "stderr",
          "text": [
            "WARNING:tensorflow:Your input ran out of data; interrupting training. Make sure that your dataset or generator can generate at least `steps_per_epoch * epochs` batches (in this case, 10 batches). You may need to use the repeat() function when building your dataset.\n"
          ]
        },
        {
          "output_type": "stream",
          "name": "stdout",
          "text": [
            "\b\b\b\b\b\b\b\b\b\b\b\b\b\b\b\b\b\b\b\b\b\b\b\b\b\b\b\b\b\b\b\b\b\b\b\b\b\b\b\b\b\b\b\b\b\b\b\b\b\b\b\b\b\b\b\b\b\b\b\b\b\b\b\b\b\b\b\b\b\b\b\b\b\b\b\b\b\b\b\b\b\r8/8 [==============================] - 5s 518ms/step - loss: 63.5780 - accuracy: 0.0586 - val_loss: 2.8539 - val_accuracy: 0.0303\n",
            "Epoch 2/15\n",
            "8/8 [==============================] - 4s 543ms/step - loss: 2.7385 - accuracy: 0.1367\n",
            "Epoch 3/15\n",
            "8/8 [==============================] - 3s 364ms/step - loss: 2.6010 - accuracy: 0.2109\n",
            "Epoch 4/15\n",
            "8/8 [==============================] - 4s 482ms/step - loss: 2.3415 - accuracy: 0.2773\n",
            "Epoch 5/15\n",
            "8/8 [==============================] - 5s 547ms/step - loss: 1.8141 - accuracy: 0.4688\n",
            "Epoch 6/15\n",
            "8/8 [==============================] - 3s 369ms/step - loss: 1.3341 - accuracy: 0.6016\n",
            "Epoch 7/15\n",
            "8/8 [==============================] - 3s 383ms/step - loss: 0.8897 - accuracy: 0.7305\n",
            "Epoch 8/15\n",
            "8/8 [==============================] - 4s 544ms/step - loss: 1.1695 - accuracy: 0.6562\n",
            "Epoch 9/15\n",
            "8/8 [==============================] - 4s 407ms/step - loss: 1.1351 - accuracy: 0.6406\n",
            "Epoch 10/15\n",
            "8/8 [==============================] - 3s 363ms/step - loss: 0.7475 - accuracy: 0.7539\n",
            "Epoch 11/15\n",
            "8/8 [==============================] - 4s 423ms/step - loss: 0.5683 - accuracy: 0.8242\n",
            "Epoch 12/15\n",
            "8/8 [==============================] - 4s 509ms/step - loss: 0.4082 - accuracy: 0.8711\n",
            "Epoch 13/15\n",
            "8/8 [==============================] - 3s 378ms/step - loss: 0.3045 - accuracy: 0.9102\n",
            "Epoch 14/15\n",
            "8/8 [==============================] - 3s 373ms/step - loss: 0.1307 - accuracy: 0.9609\n",
            "Epoch 15/15\n",
            "8/8 [==============================] - 5s 582ms/step - loss: 0.1210 - accuracy: 0.9570\n"
          ]
        },
        {
          "output_type": "execute_result",
          "data": {
            "text/plain": [
              "<keras.src.callbacks.History at 0x7d9c9f3ecdf0>"
            ]
          },
          "metadata": {},
          "execution_count": 27
        }
      ]
    },
    {
      "cell_type": "code",
      "source": [
        "'''Making single predictions'''\n",
        "import numpy as np\n",
        "from keras.preprocessing import image\n",
        "\n",
        "ImagePath='/content/test/face/Face Images/Final Testing Images/face17/PXL_20240319_081525750.jpg'\n",
        "test_image=image.load_img(ImagePath,target_size=(64, 64))\n",
        "test_image=image.img_to_array(test_image)\n",
        "\n",
        "test_image=np.expand_dims(test_image,axis=0)\n",
        "\n",
        "result=classifier.predict(test_image,verbose=0)\n",
        "#print(training_set.class_indices)\n",
        "\n",
        "\n",
        "print('Prediction is: ',ResultMap[np.argmax(result)])"
      ],
      "metadata": {
        "colab": {
          "base_uri": "https://localhost:8080/"
        },
        "id": "9VOzFhYWM2st",
        "outputId": "0eb8a329-1402-4095-e987-53c5891b2822"
      },
      "execution_count": null,
      "outputs": [
        {
          "output_type": "stream",
          "name": "stdout",
          "text": [
            "Prediction is:  face17\n"
          ]
        }
      ]
    },
    {
      "cell_type": "code",
      "source": [],
      "metadata": {
        "id": "7SPndniCO1m1"
      },
      "execution_count": null,
      "outputs": []
    }
  ]
}